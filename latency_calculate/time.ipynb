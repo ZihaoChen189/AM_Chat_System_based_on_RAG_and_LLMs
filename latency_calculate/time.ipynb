{
 "cells": [
  {
   "cell_type": "markdown",
   "id": "266fd619-ba87-4d4a-a6dc-aa7c45c3ad2b",
   "metadata": {},
   "source": [
    "# GPT-4o"
   ]
  },
  {
   "cell_type": "code",
   "execution_count": 1,
   "id": "850dd887-7f1e-4697-b436-7904fff8e0c3",
   "metadata": {},
   "outputs": [
    {
     "name": "stdout",
     "output_type": "stream",
     "text": [
      "Sum of group 1: 10.754 Seconds\n",
      "Sum of group 2: 20.457 Seconds\n",
      "Sum of group 3: 10.557 Seconds\n",
      "Average time to answer 3 questions: 13.922666666666666 Seconds\n"
     ]
    }
   ],
   "source": [
    "group1 = [3.637, 3.447, 3.670]\n",
    "sum1 = sum(group1)\n",
    "\n",
    "group2 = [3.670, 10.889, 5.898]\n",
    "sum2 = sum(group2)\n",
    "\n",
    "group3 = [4.745, 3.114, 2.698]\n",
    "sum3 = sum(group3)\n",
    "\n",
    "print(\"Sum of group 1:\", sum1, \"Seconds\")\n",
    "print(\"Sum of group 2:\", sum2, \"Seconds\")\n",
    "print(\"Sum of group 3:\", sum3, \"Seconds\")\n",
    "\n",
    "average_total = (sum1 + sum2 + sum3) / 3\n",
    "print(\"Average time to answer 3 questions:\", average_total, \"Seconds\")\n"
   ]
  },
  {
   "cell_type": "markdown",
   "id": "e015f7c6-ecaf-4ff3-8133-62c947146cb2",
   "metadata": {},
   "source": [
    "# GPT-4.1"
   ]
  },
  {
   "cell_type": "code",
   "execution_count": 2,
   "id": "461aeb7e-39ca-48fb-be6a-2985843d874b",
   "metadata": {},
   "outputs": [
    {
     "name": "stdout",
     "output_type": "stream",
     "text": [
      "Sum of group 1: 21.026 Seconds\n",
      "Sum of group 2: 13.469 Seconds\n",
      "Sum of group 3: 12.615 Seconds\n",
      "Average of all sums: 15.703333333333333 Seconds\n"
     ]
    }
   ],
   "source": [
    "group1 = [4.081, 3.661, 13.284]\n",
    "group2 = [5.260, 3.696, 4.513]\n",
    "group3 = [4.804, 3.441, 4.370]\n",
    "\n",
    "sum1 = sum(group1)\n",
    "sum2 = sum(group2)\n",
    "sum3 = sum(group3)\n",
    "\n",
    "average_total = (sum1 + sum2 + sum3) / 3\n",
    "\n",
    "print(\"Sum of group 1:\", sum1, \"Seconds\")\n",
    "print(\"Sum of group 2:\", sum2, \"Seconds\")\n",
    "print(\"Sum of group 3:\", sum3, \"Seconds\")\n",
    "print(\"Average of all sums:\", average_total, \"Seconds\")\n"
   ]
  },
  {
   "cell_type": "markdown",
   "id": "02d000b9-cdd0-4677-95ba-fc7644898e4e",
   "metadata": {},
   "source": [
    "# DeepSeek-V3"
   ]
  },
  {
   "cell_type": "code",
   "execution_count": 3,
   "id": "8f34b4d5-2c1f-4905-926e-b7b468020ba6",
   "metadata": {},
   "outputs": [
    {
     "name": "stdout",
     "output_type": "stream",
     "text": [
      "Sum of group 1: 54.773 Seconds\n",
      "Sum of group 2: 67.799 Seconds\n",
      "Sum of group 3: 59.279 Seconds\n",
      "Average of all sums: 60.617 Seconds\n"
     ]
    }
   ],
   "source": [
    "group1 = [16.820, 18.376, 19.577]\n",
    "group2 = [23.568, 21.729, 22.502]\n",
    "group3 = [15.920, 21.088, 22.271]\n",
    "\n",
    "sum1 = sum(group1)  # = 54.773\n",
    "sum2 = sum(group2)  # = 67.799\n",
    "sum3 = sum(group3)  # = 59.279\n",
    "\n",
    "average_total = (sum1 + sum2 + sum3) / 3  # = 60.617\n",
    "\n",
    "print(\"Sum of group 1:\", sum1, \"Seconds\")\n",
    "print(\"Sum of group 2:\", sum2, \"Seconds\")\n",
    "print(\"Sum of group 3:\", sum3, \"Seconds\")\n",
    "print(\"Average of all sums:\", average_total, \"Seconds\")"
   ]
  },
  {
   "cell_type": "markdown",
   "id": "a5a798c8-b05c-49b5-b369-e0f00180c06e",
   "metadata": {},
   "source": [
    "# DeepSeek-R1"
   ]
  },
  {
   "cell_type": "code",
   "execution_count": 4,
   "id": "12e60c55-81a2-4182-8f5f-3be23e385e2a",
   "metadata": {},
   "outputs": [
    {
     "name": "stdout",
     "output_type": "stream",
     "text": [
      "Sum of group 1: 117.85 Seconds\n",
      "Sum of group 2: 104.927 Seconds\n",
      "Sum of group 3: 98.026 Seconds\n",
      "Average of all sums: 106.93433333333333 Seconds\n"
     ]
    }
   ],
   "source": [
    "group1 = [35.675, 34.207, 47.968]\n",
    "group2 = [40.092, 31.748, 33.087]\n",
    "group3 = [31.509, 33.885, 32.632]\n",
    "\n",
    "sum1 = sum(group1)  # = 117.850\n",
    "sum2 = sum(group2)  # = 104.927\n",
    "sum3 = sum(group3)  # = 98.026\n",
    "\n",
    "average_total = (sum1 + sum2 + sum3) / 3  # = 106.934\n",
    "\n",
    "print(\"Sum of group 1:\", sum1, \"Seconds\")\n",
    "print(\"Sum of group 2:\", sum2, \"Seconds\")\n",
    "print(\"Sum of group 3:\", sum3, \"Seconds\")\n",
    "print(\"Average of all sums:\", average_total, \"Seconds\")"
   ]
  },
  {
   "cell_type": "code",
   "execution_count": null,
   "id": "aaec54ca-8ad9-47f8-b656-af842b762b89",
   "metadata": {},
   "outputs": [],
   "source": []
  },
  {
   "cell_type": "code",
   "execution_count": 9,
   "id": "2a8f330b-133f-4c81-838f-b356cd2c005a",
   "metadata": {},
   "outputs": [
    {
     "data": {
      "image/png": "[encoded data removed]",
      "text/plain": [
       "<Figure size 700x400 with 1 Axes>"
      ]
     },
     "metadata": {},
     "output_type": "display_data"
    }
   ],
   "source": [
    "import matplotlib.pyplot as plt\n",
    "\n",
    "llms = ['GPT-4o', 'GPT-4.1', 'DeepSeek-V3', 'DeepSeek-R1']\n",
    "avg_latency = [13.92, 15.70, 60.62, 106.93]\n",
    "\n",
    "plt.figure(figsize=(7,4))\n",
    "bars = plt.bar(llms, avg_latency)\n",
    "plt.ylabel('Average Latency (Seconds)')\n",
    "plt.xlabel('LLMs')\n",
    "plt.title('Average Latency for Three Questions Over Three Trials')\n",
    "plt.tight_layout()\n",
    "\n",
    "for bar, value in zip(bars, avg_latency):\n",
    "    plt.text(bar.get_x() + bar.get_width() / 2, bar.get_height(), f'{value:.2f}', \n",
    "             ha='center', va='bottom', fontsize=10)\n",
    "\n",
    "plt.savefig('llm_latency_comparison.pdf')\n",
    "plt.show()\n",
    "plt.close()\n"
   ]
  },
  {
   "cell_type": "code",
   "execution_count": null,
   "id": "96287f7d-7618-4284-b532-ae470196361c",
   "metadata": {},
   "outputs": [],
   "source": []
  }
 ],
 "metadata": {
  "kernelspec": {
   "display_name": "Python 3 (ipykernel)",
   "language": "python",
   "name": "python3"
  },
  "language_info": {
   "codemirror_mode": {
    "name": "ipython",
    "version": 3
   },
   "file_extension": ".py",
   "mimetype": "text/x-python",
   "name": "python",
   "nbconvert_exporter": "python",
   "pygments_lexer": "ipython3",
   "version": "3.12.7"
  }
 },
 "nbformat": 4,
 "nbformat_minor": 5
}
