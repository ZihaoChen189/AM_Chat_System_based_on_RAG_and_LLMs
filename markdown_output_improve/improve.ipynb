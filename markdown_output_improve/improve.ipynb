{
 "cells": [
  {
   "cell_type": "markdown",
   "id": "45e05f32-843f-4498-82de-07a5c0d0b0d9",
   "metadata": {},
   "source": [
    "# DeepSeek-R1"
   ]
  },
  {
   "cell_type": "code",
   "execution_count": 1,
   "id": "28f90abb-de77-4a79-8f18-9dc06fe355bd",
   "metadata": {},
   "outputs": [
    {
     "name": "stdout",
     "output_type": "stream",
     "text": [
      "\n",
      "Based on the retrieved documents, the brittleness of polylactic acid (PLA) can be improved through several strategies, primarily focusing on enhancing its flexibility and impact resistance:\n",
      "\n",
      "### Key Approaches to Reduce PLA Brittleness:\n",
      "1. **Plasticization**  \n",
      "   - Adding low-molecular-weight **plasticizers** (e.g., lactides, oligomeric lactic acid, citrate esters, polyethylene glycol) lowers the glass transition temperature ((T_g)), increasing chain mobility and ductility ([reference_156.pdf, page 1051](file:///Users/robert/Desktop/project/documents/reference_156.pdf)).  \n",
      "\n",
      "2. **Copolymerization**  \n",
      "   - Incorporating flexible comonomers (e.g., caprolactone, ethylene oxide) disrupts PLA’s rigid chain structure, improving elongation-at-break and impact resistance ([reference_156.pdf, page 1051](file:///Users/robert/Desktop/project/documents/reference_156.pdf)).  \n",
      "\n",
      "3. **Blending with Flexible Polymers/Rubbers**  \n",
      "   - Melt blending PLA with **toughening agents** such as:  \n",
      "     - Biodegradable polyesters (e.g., poly(butylene adipate-co-terephthalate) (PBAT), polycaprolactone (PCL)).  \n",
      "     - Elastomers (e.g., natural rubber, acrylic rubber).  \n",
      "   - These form a dispersed rubbery phase that absorbs impact energy and arrests crack propagation ([reference_156.pdf, page 1051](file:///Users/robert/Desktop/project/documents/reference_156.pdf); [reference_30.pdf, page 369](file:///Users/robert/Desktop/project/documents/reference_30.pdf)).  \n",
      "\n",
      "4. **Reactive Blending**  \n",
      "   - Using **reactive compatibilizers** (e.g., peroxides, multifunctional epoxies) during melt blending promotes *in-situ* copolymer formation. This enhances interfacial adhesion between PLA and toughening phases, significantly improving impact strength (e.g., achieving >500% increase in notched Izod impact) ([reference_156.pdf, page 1051](file:///Users/robert/Desktop/project/documents/reference_156.pdf)).  \n",
      "\n",
      "### Additional Notes:\n",
      "- **Stereochemistry/Molecular Weight**: Adjusting L/D-lactide ratios or increasing molecular weight offers marginal improvements but is insufficient alone for high-toughness applications.  \n",
      "- **Crystallinity Control**: Annealing can increase crystallinity but may exacerbate brittleness; plasticizers/copolymerization counterbalance this effect.  \n",
      "\n",
      "These methods\n",
      "\n",
      "Markdown File Saved Successfully!\n"
     ]
    }
   ],
   "source": [
    "import re\n",
    "\n",
    "raw_text = r\"\"\"\n",
    "Based on the retrieved documents, the brittleness of polylactic acid (PLA) can be improved through several strategies, primarily focusing on enhancing its flexibility and impact resistance:\\n\\n### Key Approaches to Reduce PLA Brittleness:\\n1. **Plasticization**  \\n   - Adding low-molecular-weight **plasticizers** (e.g., lactides, oligomeric lactic acid, citrate esters, polyethylene glycol) lowers the glass transition temperature (\\\\(T_g\\\\)), increasing chain mobility and ductility ([reference_156.pdf, page 1051](file:///Users/robert/Desktop/project/documents/reference_156.pdf)).  \\n\\n2. **Copolymerization**  \\n   - Incorporating flexible comonomers (e.g., caprolactone, ethylene oxide) disrupts PLA’s rigid chain structure, improving elongation-at-break and impact resistance ([reference_156.pdf, page 1051](file:///Users/robert/Desktop/project/documents/reference_156.pdf)).  \\n\\n3. **Blending with Flexible Polymers/Rubbers**  \\n   - Melt blending PLA with **toughening agents** such as:  \\n     - Biodegradable polyesters (e.g., poly(butylene adipate-co-terephthalate) (PBAT), polycaprolactone (PCL)).  \\n     - Elastomers (e.g., natural rubber, acrylic rubber).  \\n   - These form a dispersed rubbery phase that absorbs impact energy and arrests crack propagation ([reference_156.pdf, page 1051](file:///Users/robert/Desktop/project/documents/reference_156.pdf); [reference_30.pdf, page 369](file:///Users/robert/Desktop/project/documents/reference_30.pdf)).  \\n\\n4. **Reactive Blending**  \\n   - Using **reactive compatibilizers** (e.g., peroxides, multifunctional epoxies) during melt blending promotes *in-situ* copolymer formation. This enhances interfacial adhesion between PLA and toughening phases, significantly improving impact strength (e.g., achieving >500% increase in notched Izod impact) ([reference_156.pdf, page 1051](file:///Users/robert/Desktop/project/documents/reference_156.pdf)).  \\n\\n### Additional Notes:\\n- **Stereochemistry/Molecular Weight**: Adjusting L/D-lactide ratios or increasing molecular weight offers marginal improvements but is insufficient alone for high-toughness applications.  \\n- **Crystallinity Control**: Annealing can increase crystallinity but may exacerbate brittleness; plasticizers/copolymerization counterbalance this effect.  \\n\\nThese methods\n",
    "\"\"\"\n",
    "\n",
    "# 1. Replace escaped newline patterns with actual newlines\n",
    "cleaned_text = re.sub(r'\\\\\\*\\*n', '\\n', raw_text)  # \\\\**n -> newline\n",
    "cleaned_text = re.sub(r'\\\\n', '\\n', cleaned_text)  # \\n -> newline\n",
    "\n",
    "# 2. Remove unnecessary backslashes\n",
    "cleaned_text = cleaned_text.replace(\"\\\\\\\\\", \"\\\\\")  # double backslash -> single backslash\n",
    "cleaned_text = cleaned_text.replace(\"\\\\\", \"\")      # remove remaining backslashes\n",
    "\n",
    "# 3. Fix escaped asterisks (\\*\\* -> **, etc.)\n",
    "cleaned_text = cleaned_text.replace(\"*\\\\*\", \"**\").replace(\"\\\\*\\\\*\", \"**\").replace(\"\\\\*\", \"*\")\n",
    "\n",
    "print(cleaned_text)\n",
    "with open(\"R1_output.md\", \"w\", encoding=\"utf-8\") as f:\n",
    "    f.write(cleaned_text)\n",
    "\n",
    "print(\"Markdown File Saved Successfully!\")\n"
   ]
  },
  {
   "cell_type": "markdown",
   "id": "474616f1-4d82-4ad8-9904-d5aad25152ce",
   "metadata": {},
   "source": [
    "# GPT-4.1"
   ]
  },
  {
   "cell_type": "code",
   "execution_count": 2,
   "id": "f081ae37-0c0a-4180-9fd9-7dc60da8c0ca",
   "metadata": {},
   "outputs": [
    {
     "name": "stdout",
     "output_type": "stream",
     "text": [
      "\n",
      "The brittleness of polylactic acid (PLA) can be improved using several strategies, as detailed in the retrieved documents:\n",
      "\n",
      "1. **Plasticization**:  \n",
      "   Adding plasticizers to PLA can increase its flexibility and ductility, reducing brittleness. Common plasticizers include polyethylene glycol, citrate esters, and oligomeric lactic acid.\n",
      "\n",
      "2. **Copolymerization**:  \n",
      "   Copolymerizing PLA with other monomers can introduce flexibility and improve toughness.\n",
      "\n",
      "3. **Addition of Rigid Fillers**:  \n",
      "   Incorporating rigid fillers can modify the mechanical properties and improve impact resistance.\n",
      "\n",
      "4. **Blending with Flexible Polymers or Rubbers**:  \n",
      "   Blending PLA with more flexible polymers or rubbers is a widely used method to enhance toughness. This is similar to how rubber-modified high-impact polystyrene (HIPS) and ABS copolymers were developed to address the brittleness of polystyrene.\n",
      "\n",
      "5. **Reactive Blending**:  \n",
      "   Reactive blending, where chemical reactions occur during melt blending, has been shown to be especially effective in achieving high impact strength.\n",
      "\n",
      "6. **Variation in Stereochemistry, Molecular Weight, and Crystallinity**:  \n",
      "   Adjusting these intrinsic factors can improve ductility and impact resistance to some extent, though the effects are usually marginal and may not be sufficient for many practical applications.\n",
      "\n",
      "**Summary:**  \n",
      "Many strategies have been developed to improve the toughness of PLA, including plasticization, copolymerization, addition of rigid fillers, and blending with flexible polymers or rubbers. Reactive blending is particularly effective for increasing impact strength. Adjustments to stereochemistry, molecular weight, and crystallinity can also help, but their effects are typically limited ([reference_156.pdf, p. 1051](#)).\n",
      "\n",
      "If you need more details on specific toughening agents or blending partners, please let me know!\n",
      "\n",
      "Markdown File Saved Successfully!\n"
     ]
    }
   ],
   "source": [
    "import re\n",
    "\n",
    "raw_text = r\"\"\"\n",
    "The brittleness of polylactic acid (PLA) can be improved using several strategies, as detailed in the retrieved documents:\\n\\n1. **Plasticization**:  \\n   Adding plasticizers to PLA can increase its flexibility and ductility, reducing brittleness. Common plasticizers include polyethylene glycol, citrate esters, and oligomeric lactic acid.\\n\\n2. **Copolymerization**:  \\n   Copolymerizing PLA with other monomers can introduce flexibility and improve toughness.\\n\\n3. **Addition of Rigid Fillers**:  \\n   Incorporating rigid fillers can modify the mechanical properties and improve impact resistance.\\n\\n4. **Blending with Flexible Polymers or Rubbers**:  \\n   Blending PLA with more flexible polymers or rubbers is a widely used method to enhance toughness. This is similar to how rubber-modified high-impact polystyrene (HIPS) and ABS copolymers were developed to address the brittleness of polystyrene.\\n\\n5. **Reactive Blending**:  \\n   Reactive blending, where chemical reactions occur during melt blending, has been shown to be especially effective in achieving high impact strength.\\n\\n6. **Variation in Stereochemistry, Molecular Weight, and Crystallinity**:  \\n   Adjusting these intrinsic factors can improve ductility and impact resistance to some extent, though the effects are usually marginal and may not be sufficient for many practical applications.\\n\\n**Summary:**  \\nMany strategies have been developed to improve the toughness of PLA, including plasticization, copolymerization, addition of rigid fillers, and blending with flexible polymers or rubbers. Reactive blending is particularly effective for increasing impact strength. Adjustments to stereochemistry, molecular weight, and crystallinity can also help, but their effects are typically limited ([reference_156.pdf, p. 1051](#)).\\n\\nIf you need more details on specific toughening agents or blending partners, please let me know!\n",
    "\"\"\"\n",
    "# 1. Replace escaped newline patterns with actual newlines\n",
    "cleaned_text = re.sub(r'\\\\\\*\\*n', '\\n', raw_text)  # \\\\**n -> newline\n",
    "cleaned_text = re.sub(r'\\\\n', '\\n', cleaned_text)  # \\n -> newline\n",
    "\n",
    "# 2. Remove unnecessary backslashes\n",
    "cleaned_text = cleaned_text.replace(\"\\\\\\\\\", \"\\\\\")  # double backslash -> single backslash\n",
    "cleaned_text = cleaned_text.replace(\"\\\\\", \"\")      # remove remaining backslashes\n",
    "\n",
    "# 3. Fix escaped asterisks (\\*\\* -> **, etc.)\n",
    "cleaned_text = cleaned_text.replace(\"*\\\\*\", \"**\").replace(\"\\\\*\\\\*\", \"**\").replace(\"\\\\*\", \"*\")\n",
    "\n",
    "print(cleaned_text)\n",
    "with open(\"41_output.md\", \"w\", encoding=\"utf-8\") as f:\n",
    "    f.write(cleaned_text)\n",
    "\n",
    "print(\"Markdown File Saved Successfully!\")\n"
   ]
  },
  {
   "cell_type": "markdown",
   "id": "d4383bd9-d379-44d2-84d0-650063ac0abb",
   "metadata": {},
   "source": [
    "# DeepSeek-V3"
   ]
  },
  {
   "cell_type": "code",
   "execution_count": 3,
   "id": "33f5e73d-58fb-4282-bef4-eb3829aa37af",
   "metadata": {},
   "outputs": [
    {
     "name": "stdout",
     "output_type": "stream",
     "text": [
      "\n",
      "The brittleness of polylactic acid (PLA) can be improved through several strategies, as detailed in the retrieved documents:  \n",
      "\n",
      "### **1. Plasticization**  \n",
      "- Adding **plasticizers** (e.g., lactide monomers, oligomeric lactic acid, glycerol, citrate esters, polyethylene glycol (PEG)) reduces brittleness by lowering the glass transition temperature (**Tg**) and increasing chain mobility (reference_161.pdf, p. 16; reference_30.pdf, p. 369).  \n",
      "\n",
      "### **2. Copolymerization**  \n",
      "- Introducing flexible comonomers (e.g., caprolactone, glycolide) improves toughness by disrupting PLA’s rigid structure (reference_156.pdf, p. 1051).  \n",
      "\n",
      "### **3. Blending with Toughening Agents**  \n",
      "- **Rubber toughening** (e.g., blending with poly(butylene adipate-co-terephthalate) (PBAT), poly(ε-caprolactone) (PCL), or natural rubber) enhances impact resistance (reference_156.pdf, p. 1051).  \n",
      "- **Reactive blending** (e.g., with epoxy-functionalized polymers) improves interfacial adhesion and toughness (reference_156.pdf, p. 1051).  \n",
      "\n",
      "### **4. Nucleation Agents & Crystallinity Control**  \n",
      "- Adding **nucleating agents** (e.g., talc, nanoclay) promotes smaller, more uniform crystallites, reducing brittleness (reference_30.pdf, p. 369).  \n",
      "- **Annealing** can optimize crystallinity, balancing stiffness and ductility (reference_161.pdf, p. 9).  \n",
      "\n",
      "### **5. Nanocomposites & Fillers**  \n",
      "- Incorporating **nanofillers** (e.g., cellulose nanofibers, graphene) can improve toughness while maintaining strength (reference_30.pdf, p. 369).  \n",
      "\n",
      "### **6. Impact Modifiers**  \n",
      "- **Core-shell rubber particles** (similar to high-impact polystyrene, HIPS) can significantly enhance impact strength (reference_156.pdf, p. 1051).  \n",
      "\n",
      "### **Key Considerations**  \n",
      "- **Trade-offs**: Increasing toughness often reduces stiffness and strength.  \n",
      "- **Processing conditions** (e.g., extrusion speed, cooling rate) affect final properties.  \n",
      "\n",
      "For more details, see **reference_156.pdf (p. 1051), reference_30.pdf (p. 369), and reference_161.pdf (p. 16).**\n",
      "\n",
      "Markdown File Saved Successfully!\n"
     ]
    }
   ],
   "source": [
    "import re\n",
    "\n",
    "raw_text = r\"\"\"\n",
    "The brittleness of polylactic acid (PLA) can be improved through several strategies, as detailed in the retrieved documents:  \\n\\n### **1. Plasticization**  \\n- Adding **plasticizers** (e.g., lactide monomers, oligomeric lactic acid, glycerol, citrate esters, polyethylene glycol (PEG)) reduces brittleness by lowering the glass transition temperature (**Tg**) and increasing chain mobility (reference_161.pdf, p. 16; reference_30.pdf, p. 369).  \\n\\n### **2. Copolymerization**  \\n- Introducing flexible comonomers (e.g., caprolactone, glycolide) improves toughness by disrupting PLA’s rigid structure (reference_156.pdf, p. 1051).  \\n\\n### **3. Blending with Toughening Agents**  \\n- **Rubber toughening** (e.g., blending with poly(butylene adipate-co-terephthalate) (PBAT), poly(ε-caprolactone) (PCL), or natural rubber) enhances impact resistance (reference_156.pdf, p. 1051).  \\n- **Reactive blending** (e.g., with epoxy-functionalized polymers) improves interfacial adhesion and toughness (reference_156.pdf, p. 1051).  \\n\\n### **4. Nucleation Agents & Crystallinity Control**  \\n- Adding **nucleating agents** (e.g., talc, nanoclay) promotes smaller, more uniform crystallites, reducing brittleness (reference_30.pdf, p. 369).  \\n- **Annealing** can optimize crystallinity, balancing stiffness and ductility (reference_161.pdf, p. 9).  \\n\\n### **5. Nanocomposites & Fillers**  \\n- Incorporating **nanofillers** (e.g., cellulose nanofibers, graphene) can improve toughness while maintaining strength (reference_30.pdf, p. 369).  \\n\\n### **6. Impact Modifiers**  \\n- **Core-shell rubber particles** (similar to high-impact polystyrene, HIPS) can significantly enhance impact strength (reference_156.pdf, p. 1051).  \\n\\n### **Key Considerations**  \\n- **Trade-offs**: Increasing toughness often reduces stiffness and strength.  \\n- **Processing conditions** (e.g., extrusion speed, cooling rate) affect final properties.  \\n\\nFor more details, see **reference_156.pdf (p. 1051), reference_30.pdf (p. 369), and reference_161.pdf (p. 16).**\n",
    "\"\"\"\n",
    "# 1. Replace escaped newline patterns with actual newlines\n",
    "cleaned_text = re.sub(r'\\\\\\*\\*n', '\\n', raw_text)  # \\\\**n -> newline\n",
    "cleaned_text = re.sub(r'\\\\n', '\\n', cleaned_text)  # \\n -> newline\n",
    "\n",
    "# 2. Remove unnecessary backslashes\n",
    "cleaned_text = cleaned_text.replace(\"\\\\\\\\\", \"\\\\\")  # double backslash -> single backslash\n",
    "cleaned_text = cleaned_text.replace(\"\\\\\", \"\")      # remove remaining backslashes\n",
    "\n",
    "# 3. Fix escaped asterisks (\\*\\* -> **, etc.)\n",
    "cleaned_text = cleaned_text.replace(\"*\\\\*\", \"**\").replace(\"\\\\*\\\\*\", \"**\").replace(\"\\\\*\", \"*\")\n",
    "\n",
    "print(cleaned_text)\n",
    "with open(\"v3_output.md\", \"w\", encoding=\"utf-8\") as f:\n",
    "    f.write(cleaned_text)\n",
    "\n",
    "print(\"Markdown File Saved Successfully!\")\n"
   ]
  },
  {
   "cell_type": "markdown",
   "id": "8d8756a6-4bf4-48f5-b73b-814a37d1d3b1",
   "metadata": {},
   "source": [
    "# GPT-4o"
   ]
  },
  {
   "cell_type": "code",
   "execution_count": 4,
   "id": "aeb8d657-6ae8-408f-9bed-43ff12b377ea",
   "metadata": {},
   "outputs": [
    {
     "name": "stdout",
     "output_type": "stream",
     "text": [
      "\n",
      "The brittleness of polylactic acid (PLA) can be improved through several strategies:\n",
      "\n",
      "1. **Plasticization**: Adding plasticizers can increase the flexibility of PLA, thereby reducing its brittleness. Common plasticizers include glycerol, citrate ester, polyethylene glycol, and oligomeric lactic acid (reference_156.pdf, page 1051).\n",
      "\n",
      "2. **Copolymerization**: This involves creating copolymers with other monomers to enhance the toughness of PLA. By altering the polymer structure, copolymerization can improve the mechanical properties of PLA (reference_156.pdf, page 1051).\n",
      "\n",
      "3. **Melt Blending with Flexible Polymers or Rubbers**: Blending PLA with other polymers or rubbers can enhance its impact strength and reduce brittleness. This approach has been emphasized as a particularly effective method for toughening PLA (reference_156.pdf, page 1051).\n",
      "\n",
      "4. **Reactive Blending**: This is a specific type of melt blending that involves chemical reactions during the blending process to form new bonds, which can significantly enhance the impact strength and toughness of PLA (reference_156.pdf, page 1051).\n",
      "\n",
      "5. **Addition of Rigid Fillers**: Incorporating rigid fillers into PLA can improve its mechanical properties, including toughness (reference_156.pdf, page 1051).\n",
      "\n",
      "These methods focus on modifying the composition and morphology of PLA to achieve a balance between strength and flexibility, thus addressing its inherent brittleness.\n",
      "\n",
      "Markdown File Saved Successfully!\n"
     ]
    }
   ],
   "source": [
    "import re\n",
    "\n",
    "raw_text = r\"\"\"\n",
    "The brittleness of polylactic acid (PLA) can be improved through several strategies:\\n\\n1. **Plasticization**: Adding plasticizers can increase the flexibility of PLA, thereby reducing its brittleness. Common plasticizers include glycerol, citrate ester, polyethylene glycol, and oligomeric lactic acid (reference_156.pdf, page 1051).\\n\\n2. **Copolymerization**: This involves creating copolymers with other monomers to enhance the toughness of PLA. By altering the polymer structure, copolymerization can improve the mechanical properties of PLA (reference_156.pdf, page 1051).\\n\\n3. **Melt Blending with Flexible Polymers or Rubbers**: Blending PLA with other polymers or rubbers can enhance its impact strength and reduce brittleness. This approach has been emphasized as a particularly effective method for toughening PLA (reference_156.pdf, page 1051).\\n\\n4. **Reactive Blending**: This is a specific type of melt blending that involves chemical reactions during the blending process to form new bonds, which can significantly enhance the impact strength and toughness of PLA (reference_156.pdf, page 1051).\\n\\n5. **Addition of Rigid Fillers**: Incorporating rigid fillers into PLA can improve its mechanical properties, including toughness (reference_156.pdf, page 1051).\\n\\nThese methods focus on modifying the composition and morphology of PLA to achieve a balance between strength and flexibility, thus addressing its inherent brittleness.\n",
    "\"\"\"\n",
    "\n",
    "# 1. Replace escaped newline patterns with actual newlines\n",
    "cleaned_text = re.sub(r'\\\\\\*\\*n', '\\n', raw_text)  # \\\\**n -> newline\n",
    "cleaned_text = re.sub(r'\\\\n', '\\n', cleaned_text)  # \\n -> newline\n",
    "\n",
    "# 2. Remove unnecessary backslashes\n",
    "cleaned_text = cleaned_text.replace(\"\\\\\\\\\", \"\\\\\")  # double backslash -> single backslash\n",
    "cleaned_text = cleaned_text.replace(\"\\\\\", \"\")      # remove remaining backslashes\n",
    "\n",
    "# 3. Fix escaped asterisks (\\*\\* -> **, etc.)\n",
    "cleaned_text = cleaned_text.replace(\"*\\\\*\", \"**\").replace(\"\\\\*\\\\*\", \"**\").replace(\"\\\\*\", \"*\")\n",
    "\n",
    "print(cleaned_text)\n",
    "with open(\"4o_output.md\", \"w\", encoding=\"utf-8\") as f:\n",
    "    f.write(cleaned_text)\n",
    "\n",
    "print(\"Markdown File Saved Successfully!\")\n"
   ]
  },
  {
   "cell_type": "code",
   "execution_count": null,
   "id": "ac7078d3-5160-45f2-b1b8-d75ef8b65be0",
   "metadata": {},
   "outputs": [],
   "source": []
  },
  {
   "cell_type": "code",
   "execution_count": 5,
   "id": "83a4e1e4-482d-4ebd-93cf-30ee7f97066f",
   "metadata": {},
   "outputs": [],
   "source": [
    "# from PyPDF2 import PdfMerger\n",
    "\n",
    "# pdf_files = [\n",
    "#     \"R1_output.pdf\",\n",
    "#     \"V3_output.pdf\",\n",
    "#     \"41_output.pdf\",\n",
    "#     \"4o_output.pdf\"\n",
    "# ]\n",
    "\n",
    "# merger = PdfMerger()\n",
    "\n",
    "# for pdf in pdf_files:\n",
    "#     merger.append(pdf)\n",
    "\n",
    "# merger.write(\"merged.pdf\")\n",
    "# merger.close()"
   ]
  },
  {
   "cell_type": "code",
   "execution_count": null,
   "id": "65b60904-c9f5-41a9-a03f-a639a6e3f10a",
   "metadata": {},
   "outputs": [],
   "source": []
  }
 ],
 "metadata": {
  "kernelspec": {
   "display_name": "Python 3 (ipykernel)",
   "language": "python",
   "name": "python3"
  },
  "language_info": {
   "codemirror_mode": {
    "name": "ipython",
    "version": 3
   },
   "file_extension": ".py",
   "mimetype": "text/x-python",
   "name": "python",
   "nbconvert_exporter": "python",
   "pygments_lexer": "ipython3",
   "version": "3.12.7"
  }
 },
 "nbformat": 4,
 "nbformat_minor": 5
}
